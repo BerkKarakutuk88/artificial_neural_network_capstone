{
  "nbformat": 4,
  "nbformat_minor": 0,
  "metadata": {
    "colab": {
      "provenance": [],
      "include_colab_link": true
    },
    "kernelspec": {
      "name": "python3",
      "display_name": "Python 3"
    }
  },
  "cells": [
    {
      "cell_type": "markdown",
      "metadata": {
        "id": "view-in-github",
        "colab_type": "text"
      },
      "source": [
        "<a href=\"https://colab.research.google.com/github/BerkKarakutuk88/artificial_neural_network_capstone/blob/main/artificial_neural_network_capstone.ipynb\" target=\"_parent\"><img src=\"https://colab.research.google.com/assets/colab-badge.svg\" alt=\"Open In Colab\"/></a>"
      ]
    },
    {
      "cell_type": "markdown",
      "metadata": {
        "id": "lP6JLo1tGNBg"
      },
      "source": [
        "# Artificial Neural Network"
      ]
    },
    {
      "cell_type": "markdown",
      "metadata": {
        "id": "gWZyYmS_UE_L"
      },
      "source": [
        "### Importing the libraries"
      ]
    },
    {
      "cell_type": "code",
      "metadata": {
        "id": "MxkJoQBkUIHC"
      },
      "source": [
        "import numpy as np\n",
        "import pandas as pd\n",
        "import tensorflow as tf"
      ],
      "execution_count": null,
      "outputs": []
    },
    {
      "cell_type": "code",
      "metadata": {
        "id": "ZaTwK7ojXr2F",
        "outputId": "c23ed4cc-593a-40b2-b802-b2ed082dbedd",
        "colab": {
          "base_uri": "https://localhost:8080/",
          "height": 35
        }
      },
      "source": [
        "tf.__version__"
      ],
      "execution_count": null,
      "outputs": [
        {
          "output_type": "execute_result",
          "data": {
            "text/plain": [
              "'2.15.0'"
            ],
            "application/vnd.google.colaboratory.intrinsic+json": {
              "type": "string"
            }
          },
          "metadata": {},
          "execution_count": 3
        }
      ]
    },
    {
      "cell_type": "markdown",
      "metadata": {
        "id": "1E0Q3aoKUCRX"
      },
      "source": [
        "## Part 1 - Data Preprocessing"
      ]
    },
    {
      "cell_type": "markdown",
      "metadata": {
        "id": "cKWAkFVGUU0Z"
      },
      "source": [
        "### Importing the dataset"
      ]
    },
    {
      "cell_type": "code",
      "source": [
        "df = pd.read_csv(\"disleksinormalhepsi.csv\", sep=';')\n",
        "df.head()"
      ],
      "metadata": {
        "colab": {
          "base_uri": "https://localhost:8080/",
          "height": 236
        },
        "id": "BpBwNrVPgKqR",
        "outputId": "062e1534-15c3-40ee-e128-d0b366b00aaa"
      },
      "execution_count": null,
      "outputs": [
        {
          "output_type": "execute_result",
          "data": {
            "text/plain": [
              "      name  type  session  T_AF3  T_F3  T_F7  T_FC5  T_T7  T_P7  T_O1  ...  \\\n",
              "0  ada2006     0        1   2.88  1.62  2.96   2.16  1.34  2.32  4.24  ...   \n",
              "1  ada2006     0        2   2.73  1.71  2.76   2.25  1.64  2.55  2.38  ...   \n",
              "2  ada2006     0        3   5.72  5.82  5.26   5.71  0.70  5.29  0.44  ...   \n",
              "3  ada2006     0        4   4.23  3.84  4.25   4.02  3.08  1.08  0.50  ...   \n",
              "4  ada2006     0        5   1.99  0.25  2.08   2.11  1.90  2.41  2.13  ...   \n",
              "\n",
              "   G_O1  G_O2  G_P8  G_T8  G_FC6  G_F8  G_F4  G_AF4  Unnamed: 73  Unnamed: 74  \n",
              "0  0.28  0.26  0.42  0.27   0.27  0.49  0.29   0.43          NaN          NaN  \n",
              "1  0.21  0.25  0.44  0.23   0.24  0.35  0.28   0.39          NaN          NaN  \n",
              "2  0.07  0.51  0.05  0.05   0.10  0.20  0.23   0.04          NaN          NaN  \n",
              "3  0.03  0.18  0.26  0.36   0.41  0.34  0.36   0.33          NaN          NaN  \n",
              "4  0.13  0.03  0.03  0.09   0.12  0.07  0.06   0.13          NaN          NaN  \n",
              "\n",
              "[5 rows x 75 columns]"
            ],
            "text/html": [
              "\n",
              "  <div id=\"df-98c451df-1d76-4366-9cc3-588232564879\" class=\"colab-df-container\">\n",
              "    <div>\n",
              "<style scoped>\n",
              "    .dataframe tbody tr th:only-of-type {\n",
              "        vertical-align: middle;\n",
              "    }\n",
              "\n",
              "    .dataframe tbody tr th {\n",
              "        vertical-align: top;\n",
              "    }\n",
              "\n",
              "    .dataframe thead th {\n",
              "        text-align: right;\n",
              "    }\n",
              "</style>\n",
              "<table border=\"1\" class=\"dataframe\">\n",
              "  <thead>\n",
              "    <tr style=\"text-align: right;\">\n",
              "      <th></th>\n",
              "      <th>name</th>\n",
              "      <th>type</th>\n",
              "      <th>session</th>\n",
              "      <th>T_AF3</th>\n",
              "      <th>T_F3</th>\n",
              "      <th>T_F7</th>\n",
              "      <th>T_FC5</th>\n",
              "      <th>T_T7</th>\n",
              "      <th>T_P7</th>\n",
              "      <th>T_O1</th>\n",
              "      <th>...</th>\n",
              "      <th>G_O1</th>\n",
              "      <th>G_O2</th>\n",
              "      <th>G_P8</th>\n",
              "      <th>G_T8</th>\n",
              "      <th>G_FC6</th>\n",
              "      <th>G_F8</th>\n",
              "      <th>G_F4</th>\n",
              "      <th>G_AF4</th>\n",
              "      <th>Unnamed: 73</th>\n",
              "      <th>Unnamed: 74</th>\n",
              "    </tr>\n",
              "  </thead>\n",
              "  <tbody>\n",
              "    <tr>\n",
              "      <th>0</th>\n",
              "      <td>ada2006</td>\n",
              "      <td>0</td>\n",
              "      <td>1</td>\n",
              "      <td>2.88</td>\n",
              "      <td>1.62</td>\n",
              "      <td>2.96</td>\n",
              "      <td>2.16</td>\n",
              "      <td>1.34</td>\n",
              "      <td>2.32</td>\n",
              "      <td>4.24</td>\n",
              "      <td>...</td>\n",
              "      <td>0.28</td>\n",
              "      <td>0.26</td>\n",
              "      <td>0.42</td>\n",
              "      <td>0.27</td>\n",
              "      <td>0.27</td>\n",
              "      <td>0.49</td>\n",
              "      <td>0.29</td>\n",
              "      <td>0.43</td>\n",
              "      <td>NaN</td>\n",
              "      <td>NaN</td>\n",
              "    </tr>\n",
              "    <tr>\n",
              "      <th>1</th>\n",
              "      <td>ada2006</td>\n",
              "      <td>0</td>\n",
              "      <td>2</td>\n",
              "      <td>2.73</td>\n",
              "      <td>1.71</td>\n",
              "      <td>2.76</td>\n",
              "      <td>2.25</td>\n",
              "      <td>1.64</td>\n",
              "      <td>2.55</td>\n",
              "      <td>2.38</td>\n",
              "      <td>...</td>\n",
              "      <td>0.21</td>\n",
              "      <td>0.25</td>\n",
              "      <td>0.44</td>\n",
              "      <td>0.23</td>\n",
              "      <td>0.24</td>\n",
              "      <td>0.35</td>\n",
              "      <td>0.28</td>\n",
              "      <td>0.39</td>\n",
              "      <td>NaN</td>\n",
              "      <td>NaN</td>\n",
              "    </tr>\n",
              "    <tr>\n",
              "      <th>2</th>\n",
              "      <td>ada2006</td>\n",
              "      <td>0</td>\n",
              "      <td>3</td>\n",
              "      <td>5.72</td>\n",
              "      <td>5.82</td>\n",
              "      <td>5.26</td>\n",
              "      <td>5.71</td>\n",
              "      <td>0.70</td>\n",
              "      <td>5.29</td>\n",
              "      <td>0.44</td>\n",
              "      <td>...</td>\n",
              "      <td>0.07</td>\n",
              "      <td>0.51</td>\n",
              "      <td>0.05</td>\n",
              "      <td>0.05</td>\n",
              "      <td>0.10</td>\n",
              "      <td>0.20</td>\n",
              "      <td>0.23</td>\n",
              "      <td>0.04</td>\n",
              "      <td>NaN</td>\n",
              "      <td>NaN</td>\n",
              "    </tr>\n",
              "    <tr>\n",
              "      <th>3</th>\n",
              "      <td>ada2006</td>\n",
              "      <td>0</td>\n",
              "      <td>4</td>\n",
              "      <td>4.23</td>\n",
              "      <td>3.84</td>\n",
              "      <td>4.25</td>\n",
              "      <td>4.02</td>\n",
              "      <td>3.08</td>\n",
              "      <td>1.08</td>\n",
              "      <td>0.50</td>\n",
              "      <td>...</td>\n",
              "      <td>0.03</td>\n",
              "      <td>0.18</td>\n",
              "      <td>0.26</td>\n",
              "      <td>0.36</td>\n",
              "      <td>0.41</td>\n",
              "      <td>0.34</td>\n",
              "      <td>0.36</td>\n",
              "      <td>0.33</td>\n",
              "      <td>NaN</td>\n",
              "      <td>NaN</td>\n",
              "    </tr>\n",
              "    <tr>\n",
              "      <th>4</th>\n",
              "      <td>ada2006</td>\n",
              "      <td>0</td>\n",
              "      <td>5</td>\n",
              "      <td>1.99</td>\n",
              "      <td>0.25</td>\n",
              "      <td>2.08</td>\n",
              "      <td>2.11</td>\n",
              "      <td>1.90</td>\n",
              "      <td>2.41</td>\n",
              "      <td>2.13</td>\n",
              "      <td>...</td>\n",
              "      <td>0.13</td>\n",
              "      <td>0.03</td>\n",
              "      <td>0.03</td>\n",
              "      <td>0.09</td>\n",
              "      <td>0.12</td>\n",
              "      <td>0.07</td>\n",
              "      <td>0.06</td>\n",
              "      <td>0.13</td>\n",
              "      <td>NaN</td>\n",
              "      <td>NaN</td>\n",
              "    </tr>\n",
              "  </tbody>\n",
              "</table>\n",
              "<p>5 rows × 75 columns</p>\n",
              "</div>\n",
              "    <div class=\"colab-df-buttons\">\n",
              "\n",
              "  <div class=\"colab-df-container\">\n",
              "    <button class=\"colab-df-convert\" onclick=\"convertToInteractive('df-98c451df-1d76-4366-9cc3-588232564879')\"\n",
              "            title=\"Convert this dataframe to an interactive table.\"\n",
              "            style=\"display:none;\">\n",
              "\n",
              "  <svg xmlns=\"http://www.w3.org/2000/svg\" height=\"24px\" viewBox=\"0 -960 960 960\">\n",
              "    <path d=\"M120-120v-720h720v720H120Zm60-500h600v-160H180v160Zm220 220h160v-160H400v160Zm0 220h160v-160H400v160ZM180-400h160v-160H180v160Zm440 0h160v-160H620v160ZM180-180h160v-160H180v160Zm440 0h160v-160H620v160Z\"/>\n",
              "  </svg>\n",
              "    </button>\n",
              "\n",
              "  <style>\n",
              "    .colab-df-container {\n",
              "      display:flex;\n",
              "      gap: 12px;\n",
              "    }\n",
              "\n",
              "    .colab-df-convert {\n",
              "      background-color: #E8F0FE;\n",
              "      border: none;\n",
              "      border-radius: 50%;\n",
              "      cursor: pointer;\n",
              "      display: none;\n",
              "      fill: #1967D2;\n",
              "      height: 32px;\n",
              "      padding: 0 0 0 0;\n",
              "      width: 32px;\n",
              "    }\n",
              "\n",
              "    .colab-df-convert:hover {\n",
              "      background-color: #E2EBFA;\n",
              "      box-shadow: 0px 1px 2px rgba(60, 64, 67, 0.3), 0px 1px 3px 1px rgba(60, 64, 67, 0.15);\n",
              "      fill: #174EA6;\n",
              "    }\n",
              "\n",
              "    .colab-df-buttons div {\n",
              "      margin-bottom: 4px;\n",
              "    }\n",
              "\n",
              "    [theme=dark] .colab-df-convert {\n",
              "      background-color: #3B4455;\n",
              "      fill: #D2E3FC;\n",
              "    }\n",
              "\n",
              "    [theme=dark] .colab-df-convert:hover {\n",
              "      background-color: #434B5C;\n",
              "      box-shadow: 0px 1px 3px 1px rgba(0, 0, 0, 0.15);\n",
              "      filter: drop-shadow(0px 1px 2px rgba(0, 0, 0, 0.3));\n",
              "      fill: #FFFFFF;\n",
              "    }\n",
              "  </style>\n",
              "\n",
              "    <script>\n",
              "      const buttonEl =\n",
              "        document.querySelector('#df-98c451df-1d76-4366-9cc3-588232564879 button.colab-df-convert');\n",
              "      buttonEl.style.display =\n",
              "        google.colab.kernel.accessAllowed ? 'block' : 'none';\n",
              "\n",
              "      async function convertToInteractive(key) {\n",
              "        const element = document.querySelector('#df-98c451df-1d76-4366-9cc3-588232564879');\n",
              "        const dataTable =\n",
              "          await google.colab.kernel.invokeFunction('convertToInteractive',\n",
              "                                                    [key], {});\n",
              "        if (!dataTable) return;\n",
              "\n",
              "        const docLinkHtml = 'Like what you see? Visit the ' +\n",
              "          '<a target=\"_blank\" href=https://colab.research.google.com/notebooks/data_table.ipynb>data table notebook</a>'\n",
              "          + ' to learn more about interactive tables.';\n",
              "        element.innerHTML = '';\n",
              "        dataTable['output_type'] = 'display_data';\n",
              "        await google.colab.output.renderOutput(dataTable, element);\n",
              "        const docLink = document.createElement('div');\n",
              "        docLink.innerHTML = docLinkHtml;\n",
              "        element.appendChild(docLink);\n",
              "      }\n",
              "    </script>\n",
              "  </div>\n",
              "\n",
              "\n",
              "<div id=\"df-06615e65-4cf5-42b7-a379-2bca780086d8\">\n",
              "  <button class=\"colab-df-quickchart\" onclick=\"quickchart('df-06615e65-4cf5-42b7-a379-2bca780086d8')\"\n",
              "            title=\"Suggest charts\"\n",
              "            style=\"display:none;\">\n",
              "\n",
              "<svg xmlns=\"http://www.w3.org/2000/svg\" height=\"24px\"viewBox=\"0 0 24 24\"\n",
              "     width=\"24px\">\n",
              "    <g>\n",
              "        <path d=\"M19 3H5c-1.1 0-2 .9-2 2v14c0 1.1.9 2 2 2h14c1.1 0 2-.9 2-2V5c0-1.1-.9-2-2-2zM9 17H7v-7h2v7zm4 0h-2V7h2v10zm4 0h-2v-4h2v4z\"/>\n",
              "    </g>\n",
              "</svg>\n",
              "  </button>\n",
              "\n",
              "<style>\n",
              "  .colab-df-quickchart {\n",
              "      --bg-color: #E8F0FE;\n",
              "      --fill-color: #1967D2;\n",
              "      --hover-bg-color: #E2EBFA;\n",
              "      --hover-fill-color: #174EA6;\n",
              "      --disabled-fill-color: #AAA;\n",
              "      --disabled-bg-color: #DDD;\n",
              "  }\n",
              "\n",
              "  [theme=dark] .colab-df-quickchart {\n",
              "      --bg-color: #3B4455;\n",
              "      --fill-color: #D2E3FC;\n",
              "      --hover-bg-color: #434B5C;\n",
              "      --hover-fill-color: #FFFFFF;\n",
              "      --disabled-bg-color: #3B4455;\n",
              "      --disabled-fill-color: #666;\n",
              "  }\n",
              "\n",
              "  .colab-df-quickchart {\n",
              "    background-color: var(--bg-color);\n",
              "    border: none;\n",
              "    border-radius: 50%;\n",
              "    cursor: pointer;\n",
              "    display: none;\n",
              "    fill: var(--fill-color);\n",
              "    height: 32px;\n",
              "    padding: 0;\n",
              "    width: 32px;\n",
              "  }\n",
              "\n",
              "  .colab-df-quickchart:hover {\n",
              "    background-color: var(--hover-bg-color);\n",
              "    box-shadow: 0 1px 2px rgba(60, 64, 67, 0.3), 0 1px 3px 1px rgba(60, 64, 67, 0.15);\n",
              "    fill: var(--button-hover-fill-color);\n",
              "  }\n",
              "\n",
              "  .colab-df-quickchart-complete:disabled,\n",
              "  .colab-df-quickchart-complete:disabled:hover {\n",
              "    background-color: var(--disabled-bg-color);\n",
              "    fill: var(--disabled-fill-color);\n",
              "    box-shadow: none;\n",
              "  }\n",
              "\n",
              "  .colab-df-spinner {\n",
              "    border: 2px solid var(--fill-color);\n",
              "    border-color: transparent;\n",
              "    border-bottom-color: var(--fill-color);\n",
              "    animation:\n",
              "      spin 1s steps(1) infinite;\n",
              "  }\n",
              "\n",
              "  @keyframes spin {\n",
              "    0% {\n",
              "      border-color: transparent;\n",
              "      border-bottom-color: var(--fill-color);\n",
              "      border-left-color: var(--fill-color);\n",
              "    }\n",
              "    20% {\n",
              "      border-color: transparent;\n",
              "      border-left-color: var(--fill-color);\n",
              "      border-top-color: var(--fill-color);\n",
              "    }\n",
              "    30% {\n",
              "      border-color: transparent;\n",
              "      border-left-color: var(--fill-color);\n",
              "      border-top-color: var(--fill-color);\n",
              "      border-right-color: var(--fill-color);\n",
              "    }\n",
              "    40% {\n",
              "      border-color: transparent;\n",
              "      border-right-color: var(--fill-color);\n",
              "      border-top-color: var(--fill-color);\n",
              "    }\n",
              "    60% {\n",
              "      border-color: transparent;\n",
              "      border-right-color: var(--fill-color);\n",
              "    }\n",
              "    80% {\n",
              "      border-color: transparent;\n",
              "      border-right-color: var(--fill-color);\n",
              "      border-bottom-color: var(--fill-color);\n",
              "    }\n",
              "    90% {\n",
              "      border-color: transparent;\n",
              "      border-bottom-color: var(--fill-color);\n",
              "    }\n",
              "  }\n",
              "</style>\n",
              "\n",
              "  <script>\n",
              "    async function quickchart(key) {\n",
              "      const quickchartButtonEl =\n",
              "        document.querySelector('#' + key + ' button');\n",
              "      quickchartButtonEl.disabled = true;  // To prevent multiple clicks.\n",
              "      quickchartButtonEl.classList.add('colab-df-spinner');\n",
              "      try {\n",
              "        const charts = await google.colab.kernel.invokeFunction(\n",
              "            'suggestCharts', [key], {});\n",
              "      } catch (error) {\n",
              "        console.error('Error during call to suggestCharts:', error);\n",
              "      }\n",
              "      quickchartButtonEl.classList.remove('colab-df-spinner');\n",
              "      quickchartButtonEl.classList.add('colab-df-quickchart-complete');\n",
              "    }\n",
              "    (() => {\n",
              "      let quickchartButtonEl =\n",
              "        document.querySelector('#df-06615e65-4cf5-42b7-a379-2bca780086d8 button');\n",
              "      quickchartButtonEl.style.display =\n",
              "        google.colab.kernel.accessAllowed ? 'block' : 'none';\n",
              "    })();\n",
              "  </script>\n",
              "</div>\n",
              "\n",
              "    </div>\n",
              "  </div>\n"
            ],
            "application/vnd.google.colaboratory.intrinsic+json": {
              "type": "dataframe",
              "variable_name": "df"
            }
          },
          "metadata": {},
          "execution_count": 20
        }
      ]
    },
    {
      "cell_type": "code",
      "metadata": {
        "id": "MXUkhkMfU4wq"
      },
      "source": [
        "df = df.drop(['name', 'session', 'Unnamed: 73', 'Unnamed: 74'], axis=1)\n",
        "\n",
        "X = df.iloc[:, 1:-1].values\n",
        "y = df.iloc[:, 0].values"
      ],
      "execution_count": null,
      "outputs": []
    },
    {
      "cell_type": "code",
      "metadata": {
        "id": "VYP9cQTWbzuI",
        "outputId": "b72760f4-3c0b-44bd-c50e-89cf97fa56bb",
        "colab": {
          "base_uri": "https://localhost:8080/"
        }
      },
      "source": [
        "print(X)"
      ],
      "execution_count": null,
      "outputs": [
        {
          "output_type": "stream",
          "name": "stdout",
          "text": [
            "[[2.88 1.62 2.96 ... 0.27 0.49 0.29]\n",
            " [2.73 1.71 2.76 ... 0.24 0.35 0.28]\n",
            " [5.72 5.82 5.26 ... 0.1  0.2  0.23]\n",
            " ...\n",
            " [6.77 3.68 9.38 ... 0.46 0.34 0.04]\n",
            " [3.96 5.87 1.79 ... 0.76 0.78 0.19]\n",
            " [9.4  8.91 5.08 ... 0.21 0.26 0.15]]\n"
          ]
        }
      ]
    },
    {
      "cell_type": "code",
      "metadata": {
        "id": "38vKGE6Nb2RR",
        "outputId": "96fc6e7b-2f35-4af1-acc9-acd0c3f26191",
        "colab": {
          "base_uri": "https://localhost:8080/"
        }
      },
      "source": [
        "print(y)"
      ],
      "execution_count": null,
      "outputs": [
        {
          "output_type": "stream",
          "name": "stdout",
          "text": [
            "[0 0 0 ... 1 1 1]\n"
          ]
        }
      ]
    },
    {
      "cell_type": "markdown",
      "metadata": {
        "id": "vHol938cW8zd"
      },
      "source": [
        "### Splitting the dataset into the Training set and Test set"
      ]
    },
    {
      "cell_type": "code",
      "metadata": {
        "id": "Z-TDt0Y_XEfc"
      },
      "source": [
        "from sklearn.model_selection import train_test_split\n",
        "X_train, X_test, y_train, y_test = train_test_split(X, y, test_size = 0.2, random_state = 0)"
      ],
      "execution_count": null,
      "outputs": []
    },
    {
      "cell_type": "markdown",
      "metadata": {
        "id": "RE_FcHyfV3TQ"
      },
      "source": [
        "### Feature Scaling"
      ]
    },
    {
      "cell_type": "code",
      "metadata": {
        "id": "ViCrE00rV8Sk"
      },
      "source": [
        "from sklearn.preprocessing import StandardScaler\n",
        "sc = StandardScaler()\n",
        "X_train = sc.fit_transform(X_train)\n",
        "X_test = sc.transform(X_test)"
      ],
      "execution_count": null,
      "outputs": []
    },
    {
      "cell_type": "markdown",
      "metadata": {
        "id": "-zfEzkRVXIwF"
      },
      "source": [
        "## Part 2 - Building the ANN"
      ]
    },
    {
      "cell_type": "markdown",
      "metadata": {
        "id": "KvdeScabXtlB"
      },
      "source": [
        "### Initializing the ANN"
      ]
    },
    {
      "cell_type": "code",
      "metadata": {
        "id": "3dtrScHxXQox"
      },
      "source": [
        "ann = tf.keras.models.Sequential()"
      ],
      "execution_count": null,
      "outputs": []
    },
    {
      "cell_type": "markdown",
      "metadata": {
        "id": "rP6urV6SX7kS"
      },
      "source": [
        "### Adding the input layer and the first hidden layer"
      ]
    },
    {
      "cell_type": "code",
      "metadata": {
        "id": "bppGycBXYCQr"
      },
      "source": [
        "ann.add(tf.keras.layers.Dense(units=6, activation='relu'))"
      ],
      "execution_count": null,
      "outputs": []
    },
    {
      "cell_type": "markdown",
      "metadata": {
        "id": "BELWAc_8YJze"
      },
      "source": [
        "### Adding the second hidden layer"
      ]
    },
    {
      "cell_type": "code",
      "metadata": {
        "id": "JneR0u0sYRTd"
      },
      "source": [
        "ann.add(tf.keras.layers.Dense(units=6, activation='relu'))"
      ],
      "execution_count": null,
      "outputs": []
    },
    {
      "cell_type": "markdown",
      "metadata": {
        "id": "OyNEe6RXYcU4"
      },
      "source": [
        "### Adding the output layer"
      ]
    },
    {
      "cell_type": "code",
      "metadata": {
        "id": "Cn3x41RBYfvY"
      },
      "source": [
        "ann.add(tf.keras.layers.Dense(units=1, activation='sigmoid'))"
      ],
      "execution_count": null,
      "outputs": []
    },
    {
      "cell_type": "markdown",
      "metadata": {
        "id": "JT4u2S1_Y4WG"
      },
      "source": [
        "## Part 3 - Training the ANN"
      ]
    },
    {
      "cell_type": "markdown",
      "metadata": {
        "id": "8GWlJChhY_ZI"
      },
      "source": [
        "### Compiling the ANN"
      ]
    },
    {
      "cell_type": "code",
      "metadata": {
        "id": "fG3RrwDXZEaS"
      },
      "source": [
        "ann.compile(optimizer = 'adam', loss = 'binary_crossentropy', metrics = ['accuracy'])"
      ],
      "execution_count": null,
      "outputs": []
    },
    {
      "cell_type": "markdown",
      "metadata": {
        "id": "0QR_G5u7ZLSM"
      },
      "source": [
        "### Training the ANN on the Training set"
      ]
    },
    {
      "cell_type": "code",
      "metadata": {
        "id": "nHZ-LKv_ZRb3",
        "outputId": "c881b347-1377-4061-8bec-7ec888f93225",
        "colab": {
          "base_uri": "https://localhost:8080/"
        }
      },
      "source": [
        "ann.fit(X_train, y_train, batch_size = 32, epochs = 100)"
      ],
      "execution_count": null,
      "outputs": [
        {
          "output_type": "stream",
          "name": "stdout",
          "text": [
            "Epoch 1/100\n",
            "521/521 [==============================] - 4s 4ms/step - loss: 0.4803 - accuracy: 0.7714\n",
            "Epoch 2/100\n",
            "521/521 [==============================] - 1s 3ms/step - loss: 0.3412 - accuracy: 0.8535\n",
            "Epoch 3/100\n",
            "521/521 [==============================] - 1s 2ms/step - loss: 0.2862 - accuracy: 0.8824\n",
            "Epoch 4/100\n",
            "521/521 [==============================] - 1s 2ms/step - loss: 0.2438 - accuracy: 0.9060\n",
            "Epoch 5/100\n",
            "521/521 [==============================] - 1s 2ms/step - loss: 0.2098 - accuracy: 0.9223\n",
            "Epoch 6/100\n",
            "521/521 [==============================] - 1s 2ms/step - loss: 0.1818 - accuracy: 0.9383\n",
            "Epoch 7/100\n",
            "521/521 [==============================] - 1s 2ms/step - loss: 0.1610 - accuracy: 0.9451\n",
            "Epoch 8/100\n",
            "521/521 [==============================] - 1s 2ms/step - loss: 0.1458 - accuracy: 0.9519\n",
            "Epoch 9/100\n",
            "521/521 [==============================] - 1s 2ms/step - loss: 0.1302 - accuracy: 0.9595\n",
            "Epoch 10/100\n",
            "521/521 [==============================] - 1s 2ms/step - loss: 0.1213 - accuracy: 0.9616\n",
            "Epoch 11/100\n",
            "521/521 [==============================] - 1s 2ms/step - loss: 0.1125 - accuracy: 0.9661\n",
            "Epoch 12/100\n",
            "521/521 [==============================] - 1s 2ms/step - loss: 0.1063 - accuracy: 0.9675\n",
            "Epoch 13/100\n",
            "521/521 [==============================] - 1s 3ms/step - loss: 0.0982 - accuracy: 0.9710\n",
            "Epoch 14/100\n",
            "521/521 [==============================] - 1s 3ms/step - loss: 0.0945 - accuracy: 0.9722\n",
            "Epoch 15/100\n",
            "521/521 [==============================] - 1s 2ms/step - loss: 0.0873 - accuracy: 0.9746\n",
            "Epoch 16/100\n",
            "521/521 [==============================] - 1s 2ms/step - loss: 0.0835 - accuracy: 0.9763\n",
            "Epoch 17/100\n",
            "521/521 [==============================] - 1s 2ms/step - loss: 0.0792 - accuracy: 0.9771\n",
            "Epoch 18/100\n",
            "521/521 [==============================] - 1s 2ms/step - loss: 0.0751 - accuracy: 0.9796\n",
            "Epoch 19/100\n",
            "521/521 [==============================] - 1s 2ms/step - loss: 0.0721 - accuracy: 0.9791\n",
            "Epoch 20/100\n",
            "521/521 [==============================] - 1s 2ms/step - loss: 0.0697 - accuracy: 0.9795\n",
            "Epoch 21/100\n",
            "521/521 [==============================] - 1s 2ms/step - loss: 0.0668 - accuracy: 0.9805\n",
            "Epoch 22/100\n",
            "521/521 [==============================] - 1s 2ms/step - loss: 0.0646 - accuracy: 0.9813\n",
            "Epoch 23/100\n",
            "521/521 [==============================] - 1s 2ms/step - loss: 0.0646 - accuracy: 0.9805\n",
            "Epoch 24/100\n",
            "521/521 [==============================] - 1s 2ms/step - loss: 0.0572 - accuracy: 0.9844\n",
            "Epoch 25/100\n",
            "521/521 [==============================] - 1s 2ms/step - loss: 0.0547 - accuracy: 0.9870\n",
            "Epoch 26/100\n",
            "521/521 [==============================] - 1s 3ms/step - loss: 0.0541 - accuracy: 0.9841\n",
            "Epoch 27/100\n",
            "521/521 [==============================] - 1s 2ms/step - loss: 0.0543 - accuracy: 0.9849\n",
            "Epoch 28/100\n",
            "521/521 [==============================] - 1s 2ms/step - loss: 0.0491 - accuracy: 0.9869\n",
            "Epoch 29/100\n",
            "521/521 [==============================] - 1s 2ms/step - loss: 0.0460 - accuracy: 0.9875\n",
            "Epoch 30/100\n",
            "521/521 [==============================] - 1s 2ms/step - loss: 0.0460 - accuracy: 0.9872\n",
            "Epoch 31/100\n",
            "521/521 [==============================] - 1s 2ms/step - loss: 0.0465 - accuracy: 0.9878\n",
            "Epoch 32/100\n",
            "521/521 [==============================] - 1s 2ms/step - loss: 0.0432 - accuracy: 0.9882\n",
            "Epoch 33/100\n",
            "521/521 [==============================] - 1s 2ms/step - loss: 0.0434 - accuracy: 0.9885\n",
            "Epoch 34/100\n",
            "521/521 [==============================] - 1s 2ms/step - loss: 0.0472 - accuracy: 0.9873\n",
            "Epoch 35/100\n",
            "521/521 [==============================] - 1s 2ms/step - loss: 0.0390 - accuracy: 0.9902\n",
            "Epoch 36/100\n",
            "521/521 [==============================] - 1s 2ms/step - loss: 0.0367 - accuracy: 0.9906\n",
            "Epoch 37/100\n",
            "521/521 [==============================] - 1s 2ms/step - loss: 0.0380 - accuracy: 0.9894\n",
            "Epoch 38/100\n",
            "521/521 [==============================] - 1s 3ms/step - loss: 0.0379 - accuracy: 0.9902\n",
            "Epoch 39/100\n",
            "521/521 [==============================] - 1s 3ms/step - loss: 0.0372 - accuracy: 0.9904\n",
            "Epoch 40/100\n",
            "521/521 [==============================] - 1s 2ms/step - loss: 0.0361 - accuracy: 0.9905\n",
            "Epoch 41/100\n",
            "521/521 [==============================] - 1s 2ms/step - loss: 0.0336 - accuracy: 0.9906\n",
            "Epoch 42/100\n",
            "521/521 [==============================] - 1s 2ms/step - loss: 0.0323 - accuracy: 0.9910\n",
            "Epoch 43/100\n",
            "521/521 [==============================] - 1s 2ms/step - loss: 0.0314 - accuracy: 0.9917\n",
            "Epoch 44/100\n",
            "521/521 [==============================] - 1s 2ms/step - loss: 0.0301 - accuracy: 0.9922\n",
            "Epoch 45/100\n",
            "521/521 [==============================] - 1s 2ms/step - loss: 0.0311 - accuracy: 0.9918\n",
            "Epoch 46/100\n",
            "521/521 [==============================] - 1s 2ms/step - loss: 0.0363 - accuracy: 0.9903\n",
            "Epoch 47/100\n",
            "521/521 [==============================] - 1s 2ms/step - loss: 0.0307 - accuracy: 0.9922\n",
            "Epoch 48/100\n",
            "521/521 [==============================] - 1s 2ms/step - loss: 0.0270 - accuracy: 0.9932\n",
            "Epoch 49/100\n",
            "521/521 [==============================] - 1s 2ms/step - loss: 0.0261 - accuracy: 0.9925\n",
            "Epoch 50/100\n",
            "521/521 [==============================] - 1s 2ms/step - loss: 0.0243 - accuracy: 0.9935\n",
            "Epoch 51/100\n",
            "521/521 [==============================] - 2s 3ms/step - loss: 0.0264 - accuracy: 0.9932\n",
            "Epoch 52/100\n",
            "521/521 [==============================] - 1s 2ms/step - loss: 0.0277 - accuracy: 0.9923\n",
            "Epoch 53/100\n",
            "521/521 [==============================] - 1s 2ms/step - loss: 0.0266 - accuracy: 0.9932\n",
            "Epoch 54/100\n",
            "521/521 [==============================] - 1s 2ms/step - loss: 0.0251 - accuracy: 0.9932\n",
            "Epoch 55/100\n",
            "521/521 [==============================] - 1s 2ms/step - loss: 0.0298 - accuracy: 0.9920\n",
            "Epoch 56/100\n",
            "521/521 [==============================] - 1s 2ms/step - loss: 0.0215 - accuracy: 0.9945\n",
            "Epoch 57/100\n",
            "521/521 [==============================] - 1s 2ms/step - loss: 0.0221 - accuracy: 0.9930\n",
            "Epoch 58/100\n",
            "521/521 [==============================] - 1s 2ms/step - loss: 0.0262 - accuracy: 0.9933\n",
            "Epoch 59/100\n",
            "521/521 [==============================] - 1s 2ms/step - loss: 0.0231 - accuracy: 0.9943\n",
            "Epoch 60/100\n",
            "521/521 [==============================] - 1s 2ms/step - loss: 0.0207 - accuracy: 0.9946\n",
            "Epoch 61/100\n",
            "521/521 [==============================] - 1s 2ms/step - loss: 0.0194 - accuracy: 0.9953\n",
            "Epoch 62/100\n",
            "521/521 [==============================] - 1s 2ms/step - loss: 0.0194 - accuracy: 0.9947\n",
            "Epoch 63/100\n",
            "521/521 [==============================] - 1s 3ms/step - loss: 0.0237 - accuracy: 0.9939\n",
            "Epoch 64/100\n",
            "521/521 [==============================] - 1s 2ms/step - loss: 0.0230 - accuracy: 0.9943\n",
            "Epoch 65/100\n",
            "521/521 [==============================] - 1s 2ms/step - loss: 0.0198 - accuracy: 0.9947\n",
            "Epoch 66/100\n",
            "521/521 [==============================] - 1s 2ms/step - loss: 0.0234 - accuracy: 0.9939\n",
            "Epoch 67/100\n",
            "521/521 [==============================] - 1s 2ms/step - loss: 0.0175 - accuracy: 0.9954\n",
            "Epoch 68/100\n",
            "521/521 [==============================] - 1s 2ms/step - loss: 0.0161 - accuracy: 0.9959\n",
            "Epoch 69/100\n",
            "521/521 [==============================] - 1s 2ms/step - loss: 0.0197 - accuracy: 0.9944\n",
            "Epoch 70/100\n",
            "521/521 [==============================] - 1s 2ms/step - loss: 0.0174 - accuracy: 0.9951\n",
            "Epoch 71/100\n",
            "521/521 [==============================] - 1s 2ms/step - loss: 0.0185 - accuracy: 0.9945\n",
            "Epoch 72/100\n",
            "521/521 [==============================] - 1s 2ms/step - loss: 0.0255 - accuracy: 0.9930\n",
            "Epoch 73/100\n",
            "521/521 [==============================] - 1s 2ms/step - loss: 0.0199 - accuracy: 0.9943\n",
            "Epoch 74/100\n",
            "521/521 [==============================] - 1s 2ms/step - loss: 0.0175 - accuracy: 0.9948\n",
            "Epoch 75/100\n",
            "521/521 [==============================] - 1s 3ms/step - loss: 0.0166 - accuracy: 0.9951\n",
            "Epoch 76/100\n",
            "521/521 [==============================] - 1s 2ms/step - loss: 0.0141 - accuracy: 0.9965\n",
            "Epoch 77/100\n",
            "521/521 [==============================] - 1s 2ms/step - loss: 0.0151 - accuracy: 0.9956\n",
            "Epoch 78/100\n",
            "521/521 [==============================] - 1s 2ms/step - loss: 0.0131 - accuracy: 0.9968\n",
            "Epoch 79/100\n",
            "521/521 [==============================] - 1s 2ms/step - loss: 0.0153 - accuracy: 0.9960\n",
            "Epoch 80/100\n",
            "521/521 [==============================] - 1s 2ms/step - loss: 0.0244 - accuracy: 0.9935\n",
            "Epoch 81/100\n",
            "521/521 [==============================] - 1s 2ms/step - loss: 0.0122 - accuracy: 0.9965\n",
            "Epoch 82/100\n",
            "521/521 [==============================] - 1s 2ms/step - loss: 0.0135 - accuracy: 0.9961\n",
            "Epoch 83/100\n",
            "521/521 [==============================] - 1s 2ms/step - loss: 0.0142 - accuracy: 0.9956\n",
            "Epoch 84/100\n",
            "521/521 [==============================] - 1s 2ms/step - loss: 0.0136 - accuracy: 0.9960\n",
            "Epoch 85/100\n",
            "521/521 [==============================] - 1s 2ms/step - loss: 0.0192 - accuracy: 0.9942\n",
            "Epoch 86/100\n",
            "521/521 [==============================] - 1s 2ms/step - loss: 0.0148 - accuracy: 0.9961\n",
            "Epoch 87/100\n",
            "521/521 [==============================] - 2s 3ms/step - loss: 0.0116 - accuracy: 0.9974\n",
            "Epoch 88/100\n",
            "521/521 [==============================] - 1s 3ms/step - loss: 0.0135 - accuracy: 0.9964\n",
            "Epoch 89/100\n",
            "521/521 [==============================] - 1s 2ms/step - loss: 0.0203 - accuracy: 0.9943\n",
            "Epoch 90/100\n",
            "521/521 [==============================] - 1s 2ms/step - loss: 0.0109 - accuracy: 0.9967\n",
            "Epoch 91/100\n",
            "521/521 [==============================] - 1s 2ms/step - loss: 0.0105 - accuracy: 0.9977\n",
            "Epoch 92/100\n",
            "521/521 [==============================] - 1s 2ms/step - loss: 0.0103 - accuracy: 0.9972\n",
            "Epoch 93/100\n",
            "521/521 [==============================] - 1s 2ms/step - loss: 0.0124 - accuracy: 0.9965\n",
            "Epoch 94/100\n",
            "521/521 [==============================] - 1s 2ms/step - loss: 0.0103 - accuracy: 0.9975\n",
            "Epoch 95/100\n",
            "521/521 [==============================] - 1s 2ms/step - loss: 0.0138 - accuracy: 0.9953\n",
            "Epoch 96/100\n",
            "521/521 [==============================] - 1s 2ms/step - loss: 0.0110 - accuracy: 0.9969\n",
            "Epoch 97/100\n",
            "521/521 [==============================] - 1s 2ms/step - loss: 0.0192 - accuracy: 0.9942\n",
            "Epoch 98/100\n",
            "521/521 [==============================] - 1s 2ms/step - loss: 0.0093 - accuracy: 0.9974\n",
            "Epoch 99/100\n",
            "521/521 [==============================] - 1s 3ms/step - loss: 0.0099 - accuracy: 0.9971\n",
            "Epoch 100/100\n",
            "521/521 [==============================] - 2s 3ms/step - loss: 0.0139 - accuracy: 0.9958\n"
          ]
        },
        {
          "output_type": "execute_result",
          "data": {
            "text/plain": [
              "<keras.src.callbacks.History at 0x799580ec7a30>"
            ]
          },
          "metadata": {},
          "execution_count": 35
        }
      ]
    },
    {
      "cell_type": "markdown",
      "metadata": {
        "id": "tJj5k2MxZga3"
      },
      "source": [
        "## Part 4 - Making the predictions and evaluating the model"
      ]
    },
    {
      "cell_type": "markdown",
      "metadata": {
        "id": "u7yx47jPZt11"
      },
      "source": [
        "### Predicting the Test set results"
      ]
    },
    {
      "cell_type": "code",
      "metadata": {
        "id": "nIyEeQdRZwgs",
        "outputId": "c1de6cd2-3ba6-44c0-ab4d-d662e95e586d",
        "colab": {
          "base_uri": "https://localhost:8080/"
        }
      },
      "source": [
        "y_pred = ann.predict(X_test)\n",
        "y_pred = (y_pred > 0.5)\n",
        "print(np.concatenate((y_pred.reshape(len(y_pred),1), y_test.reshape(len(y_test),1)),1))"
      ],
      "execution_count": null,
      "outputs": [
        {
          "output_type": "stream",
          "name": "stdout",
          "text": [
            "131/131 [==============================] - 0s 2ms/step\n",
            "[[0 0]\n",
            " [0 0]\n",
            " [1 1]\n",
            " ...\n",
            " [1 1]\n",
            " [0 0]\n",
            " [0 0]]\n"
          ]
        }
      ]
    },
    {
      "cell_type": "markdown",
      "metadata": {
        "id": "o0oyfLWoaEGw"
      },
      "source": [
        "### Making the Confusion Matrix"
      ]
    },
    {
      "cell_type": "code",
      "metadata": {
        "id": "ci6K_r6LaF6P",
        "outputId": "0c53a3cf-6303-4755-e0e0-fd8c47f8389a",
        "colab": {
          "base_uri": "https://localhost:8080/",
          "height": 501
        }
      },
      "source": [
        "from sklearn.metrics import confusion_matrix, accuracy_score,ConfusionMatrixDisplay\n",
        "cm = confusion_matrix(y_test, y_pred)\n",
        "print(cm)\n",
        "cm_display = ConfusionMatrixDisplay(confusion_matrix = cm, display_labels = [0, 1])\n",
        "cm_display.plot()\n",
        "accuracy_score(y_test, y_pred)"
      ],
      "execution_count": null,
      "outputs": [
        {
          "output_type": "stream",
          "name": "stdout",
          "text": [
            "[[1911   53]\n",
            " [  29 2171]]\n"
          ]
        },
        {
          "output_type": "execute_result",
          "data": {
            "text/plain": [
              "0.9803073967339097"
            ]
          },
          "metadata": {},
          "execution_count": 37
        },
        {
          "output_type": "display_data",
          "data": {
            "text/plain": [
              "<Figure size 640x480 with 2 Axes>"
            ],
            "image/png": "[encoded data removed]"
          },
          "metadata": {}
        }
      ]
    }
  ]
}